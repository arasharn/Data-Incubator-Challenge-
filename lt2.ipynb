{
 "cells": [
  {
   "cell_type": "markdown",
   "metadata": {},
   "source": [
    "Loading toolboxes"
   ]
  },
  {
   "cell_type": "code",
   "execution_count": 1,
   "metadata": {},
   "outputs": [],
   "source": [
    "import numpy as np\n",
    "import pandas as pd\n",
    "import matplotlib.pyplot as plt\n",
    "import seaborn as sns"
   ]
  },
  {
   "cell_type": "markdown",
   "metadata": {},
   "source": [
    "Loading data"
   ]
  },
  {
   "cell_type": "code",
   "execution_count": 2,
   "metadata": {},
   "outputs": [
    {
     "name": "stdout",
     "output_type": "stream",
     "text": [
      "\n",
      "A view of data-------------------------------------------------------------------------------------------------\n",
      "                         id                 date          user       pc  \\\n",
      "0  {M8H9-W9NL75TH-1322KOLO}  01/04/2010 07:08:47  ACME/AMA0606  PC-1514   \n",
      "1  {V0E1-R0FE91SC-2381GTDZ}  01/04/2010 07:35:19  ACME/DBM0698  PC-1444   \n",
      "2  {V7C8-H6KA39YG-3352HMOW}  01/04/2010 07:40:40  ACME/HBF0035  PC-0991   \n",
      "3  {O9P7-D9DL54YQ-9903OMYE}  01/04/2010 07:52:25  ACME/SVC0175  PC-3384   \n",
      "4  {L3J0-E4RF05KN-7341OQVW}  01/04/2010 07:55:50  ACME/CMU0028  PC-4253   \n",
      "\n",
      "                     website  \n",
      "0            http://cnet.com  \n",
      "1      http://force.open.com  \n",
      "2    http://tendencystem.org  \n",
      "3        http://bent.cup.org  \n",
      "4  http://taxpotato.east.org  \n",
      "--------------------------------------------------------------------------------------------------------------\n",
      "Summary of the data-------------------------------------------------------------------------------------------\n",
      "                              id                 date          user       pc  \\\n",
      "count                    3451665              3451665       3451665  3451665   \n",
      "unique                   3451665              1373267          1000     1100   \n",
      "top     {S2T5-T9ZU53FG-3047UNPI}  04/13/2011 09:48:41  ACME/AEG0905  PC-0211   \n",
      "freq                           1                   44         20966    20985   \n",
      "\n",
      "                  website  \n",
      "count             3451665  \n",
      "unique             105428  \n",
      "top     http://google.com  \n",
      "freq               745771  \n",
      "--------------------------------------------------------------------------------------------------------------\n",
      "Number of missed data-----------------------------------------------------------------------------------------\n",
      "id         0\n",
      "date       0\n",
      "user       0\n",
      "pc         0\n",
      "website    0\n",
      "dtype: int64\n",
      "--------------------------------------------------------------------------------------------------------------\n",
      "--------------------------------------------------------------------------------------------------------------\n",
      "Data types----------------------------------------------------------------------------------------------------\n",
      "id         object\n",
      "date       object\n",
      "user       object\n",
      "pc         object\n",
      "website    object\n",
      "dtype: object\n",
      "--------------------------------------------------------------------------------------------------------------\n"
     ]
    }
   ],
   "source": [
    "data = pd.read_csv('http_info.csv', names = [\"id\", \"date\", \"user\", \"pc\", \"website\"])\n",
    "print(                                                                                                                )\n",
    "print(\"A view of data-------------------------------------------------------------------------------------------------\")\n",
    "print(data.head())\n",
    "print(\"--------------------------------------------------------------------------------------------------------------\")\n",
    "print(\"Summary of the data-------------------------------------------------------------------------------------------\")\n",
    "print(data.describe(include = 'all'))\n",
    "print(\"--------------------------------------------------------------------------------------------------------------\")\n",
    "print(\"Number of missed data-----------------------------------------------------------------------------------------\")\n",
    "print(data.isnull().sum())\n",
    "print(\"--------------------------------------------------------------------------------------------------------------\")\n",
    "print(\"--------------------------------------------------------------------------------------------------------------\")\n",
    "print(\"Data types----------------------------------------------------------------------------------------------------\")\n",
    "print(data.dtypes)\n",
    "print(\"--------------------------------------------------------------------------------------------------------------\")"
   ]
  },
  {
   "cell_type": "code",
   "execution_count": 3,
   "metadata": {},
   "outputs": [
    {
     "data": {
      "text/plain": [
       "id                 object\n",
       "date       datetime64[ns]\n",
       "user               object\n",
       "pc                 object\n",
       "website            object\n",
       "dtype: object"
      ]
     },
     "execution_count": 3,
     "metadata": {},
     "output_type": "execute_result"
    }
   ],
   "source": [
    "data.iloc[:,1] = pd.to_datetime(data.iloc[:,1])\n",
    "\n",
    "data.dtypes"
   ]
  },
  {
   "cell_type": "code",
   "execution_count": 4,
   "metadata": {},
   "outputs": [
    {
     "name": "stdout",
     "output_type": "stream",
     "text": [
      "\n",
      "New data frame------------------------------------------------------------------------------------------------\n",
      "                         id                date          user       pc  \\\n",
      "0  {M8H9-W9NL75TH-1322KOLO} 2010-01-04 07:08:47  ACME/AMA0606  PC-1514   \n",
      "1  {V0E1-R0FE91SC-2381GTDZ} 2010-01-04 07:35:19  ACME/DBM0698  PC-1444   \n",
      "2  {V7C8-H6KA39YG-3352HMOW} 2010-01-04 07:40:40  ACME/HBF0035  PC-0991   \n",
      "3  {O9P7-D9DL54YQ-9903OMYE} 2010-01-04 07:52:25  ACME/SVC0175  PC-3384   \n",
      "4  {L3J0-E4RF05KN-7341OQVW} 2010-01-04 07:55:50  ACME/CMU0028  PC-4253   \n",
      "\n",
      "                     website  year  month  week  weekday    time   numdate  \n",
      "0            http://cnet.com  2010      1     1        0  070847  20100104  \n",
      "1      http://force.open.com  2010      1     1        0  073519  20100104  \n",
      "2    http://tendencystem.org  2010      1     1        0  074040  20100104  \n",
      "3        http://bent.cup.org  2010      1     1        0  075225  20100104  \n",
      "4  http://taxpotato.east.org  2010      1     1        0  075550  20100104  \n",
      "--------------------------------------------------------------------------------------------------------------\n"
     ]
    }
   ],
   "source": [
    "year = data.iloc[:,1].dt.year\n",
    "data['year'] = year \n",
    "#----------------------------------------------------------------------------------------------------------------------\n",
    "\n",
    "month = data.iloc[:,1].dt.month\n",
    "data['month'] = month\n",
    "#----------------------------------------------------------------------------------------------------------------------\n",
    "\n",
    "week = data.iloc[:,1].dt.week\n",
    "data['week'] = week\n",
    "#----------------------------------------------------------------------------------------------------------------------\n",
    "\n",
    "weekday = data.iloc[:,1].dt.weekday\n",
    "data['weekday'] = weekday \n",
    "#----------------------------------------------------------------------------------------------------------------------\n",
    "\n",
    "time = data.iloc[:,1].dt.time\n",
    "\n",
    "Time = []\n",
    "for i in time:\n",
    "    d = str(i).replace(':', \"\")\n",
    "    Time.append(np.array(d))\n",
    "\n",
    "data[\"time\"] = Time\n",
    "#----------------------------------------------------------------------------------------------------------------------\n",
    "\n",
    "DATE = data.iloc[:,1].dt.date\n",
    "DATE\n",
    "\n",
    "ddate = []\n",
    "for i in DATE:\n",
    "    d = str(i).replace('-', \"\")\n",
    "    ddate.append(np.array(d))\n",
    "\n",
    "np.array(ddate)\n",
    "data['numdate'] = ddate\n",
    "\n",
    "print(                                                                                                                )\n",
    "print(\"New data frame------------------------------------------------------------------------------------------------\")\n",
    "print(data.head())\n",
    "print(\"--------------------------------------------------------------------------------------------------------------\")"
   ]
  },
  {
   "cell_type": "markdown",
   "metadata": {},
   "source": [
    "Turn the pc number into the integer"
   ]
  },
  {
   "cell_type": "code",
   "execution_count": 5,
   "metadata": {},
   "outputs": [
    {
     "name": "stdout",
     "output_type": "stream",
     "text": [
      "\n",
      "New data frame------------------------------------------------------------------------------------------------\n",
      "                         id                date          user       pc  \\\n",
      "0  {M8H9-W9NL75TH-1322KOLO} 2010-01-04 07:08:47  ACME/AMA0606  PC-1514   \n",
      "1  {V0E1-R0FE91SC-2381GTDZ} 2010-01-04 07:35:19  ACME/DBM0698  PC-1444   \n",
      "2  {V7C8-H6KA39YG-3352HMOW} 2010-01-04 07:40:40  ACME/HBF0035  PC-0991   \n",
      "3  {O9P7-D9DL54YQ-9903OMYE} 2010-01-04 07:52:25  ACME/SVC0175  PC-3384   \n",
      "4  {L3J0-E4RF05KN-7341OQVW} 2010-01-04 07:55:50  ACME/CMU0028  PC-4253   \n",
      "\n",
      "                     website  year  month  week  weekday    time   numdate  \\\n",
      "0            http://cnet.com  2010      1     1        0  070847  20100104   \n",
      "1      http://force.open.com  2010      1     1        0  073519  20100104   \n",
      "2    http://tendencystem.org  2010      1     1        0  074040  20100104   \n",
      "3        http://bent.cup.org  2010      1     1        0  075225  20100104   \n",
      "4  http://taxpotato.east.org  2010      1     1        0  075550  20100104   \n",
      "\n",
      "     PC  \n",
      "0  1514  \n",
      "1  1444  \n",
      "2  0991  \n",
      "3  3384  \n",
      "4  4253  \n",
      "--------------------------------------------------------------------------------------------------------------\n"
     ]
    }
   ],
   "source": [
    "pc = []\n",
    "for i in data.iloc[:,3]:\n",
    "    d = str(i).split(\"-\")\n",
    "    pc.append(np.array(d[1]))\n",
    "\n",
    "data[\"PC\"] = pc\n",
    "\n",
    "print(                                                                                                                )\n",
    "print(\"New data frame------------------------------------------------------------------------------------------------\")\n",
    "print(data.head())\n",
    "print(\"--------------------------------------------------------------------------------------------------------------\")"
   ]
  },
  {
   "cell_type": "markdown",
   "metadata": {},
   "source": [
    "Categorizing *user*"
   ]
  },
  {
   "cell_type": "code",
   "execution_count": 6,
   "metadata": {},
   "outputs": [
    {
     "name": "stdout",
     "output_type": "stream",
     "text": [
      "\n",
      "New data frame------------------------------------------------------------------------------------------------\n",
      "                         id                date          user       pc  \\\n",
      "0  {M8H9-W9NL75TH-1322KOLO} 2010-01-04 07:08:47  ACME/AMA0606  PC-1514   \n",
      "1  {V0E1-R0FE91SC-2381GTDZ} 2010-01-04 07:35:19  ACME/DBM0698  PC-1444   \n",
      "2  {V7C8-H6KA39YG-3352HMOW} 2010-01-04 07:40:40  ACME/HBF0035  PC-0991   \n",
      "3  {O9P7-D9DL54YQ-9903OMYE} 2010-01-04 07:52:25  ACME/SVC0175  PC-3384   \n",
      "4  {L3J0-E4RF05KN-7341OQVW} 2010-01-04 07:55:50  ACME/CMU0028  PC-4253   \n",
      "\n",
      "                     website  year  month  week  weekday    time   numdate  \\\n",
      "0            http://cnet.com  2010      1     1        0  070847  20100104   \n",
      "1      http://force.open.com  2010      1     1        0  073519  20100104   \n",
      "2    http://tendencystem.org  2010      1     1        0  074040  20100104   \n",
      "3        http://bent.cup.org  2010      1     1        0  075225  20100104   \n",
      "4  http://taxpotato.east.org  2010      1     1        0  075550  20100104   \n",
      "\n",
      "     PC  user_cat  \n",
      "0  1514        66  \n",
      "1  1444       259  \n",
      "2  0991       385  \n",
      "3  3384       889  \n",
      "4  4253       223  \n",
      "--------------------------------------------------------------------------------------------------------------\n"
     ]
    }
   ],
   "source": [
    "data['user_cat'] = pd.Categorical(data.iloc[:,2])\n",
    "#data['usercat'] = data['user'].astype('category',ordered=False)\n",
    "data['user_cat'] = data['user_cat'].cat.codes\n",
    "\n",
    "print(                                                                                                                )\n",
    "print(\"New data frame------------------------------------------------------------------------------------------------\")\n",
    "print(data.head())\n",
    "print(\"--------------------------------------------------------------------------------------------------------------\")"
   ]
  },
  {
   "cell_type": "markdown",
   "metadata": {},
   "source": [
    "Sepearting the *website* data"
   ]
  },
  {
   "cell_type": "code",
   "execution_count": 7,
   "metadata": {},
   "outputs": [
    {
     "name": "stdout",
     "output_type": "stream",
     "text": [
      "\n",
      "New data frame------------------------------------------------------------------------------------------------\n",
      "                         id                date          user       pc  \\\n",
      "0  {M8H9-W9NL75TH-1322KOLO} 2010-01-04 07:08:47  ACME/AMA0606  PC-1514   \n",
      "1  {V0E1-R0FE91SC-2381GTDZ} 2010-01-04 07:35:19  ACME/DBM0698  PC-1444   \n",
      "2  {V7C8-H6KA39YG-3352HMOW} 2010-01-04 07:40:40  ACME/HBF0035  PC-0991   \n",
      "3  {O9P7-D9DL54YQ-9903OMYE} 2010-01-04 07:52:25  ACME/SVC0175  PC-3384   \n",
      "4  {L3J0-E4RF05KN-7341OQVW} 2010-01-04 07:55:50  ACME/CMU0028  PC-4253   \n",
      "\n",
      "              website  year  month  week  weekday    time   numdate    PC  \\\n",
      "0            cnet.com  2010      1     1        0  070847  20100104  1514   \n",
      "1      force.open.com  2010      1     1        0  073519  20100104  1444   \n",
      "2    tendencystem.org  2010      1     1        0  074040  20100104  0991   \n",
      "3        bent.cup.org  2010      1     1        0  075225  20100104  3384   \n",
      "4  taxpotato.east.org  2010      1     1        0  075550  20100104  4253   \n",
      "\n",
      "   user_cat domain          website_name  \n",
      "0        66    com              ['cnet']  \n",
      "1       259    com      ['force' 'open']  \n",
      "2       385    org      ['tendencystem']  \n",
      "3       889    org        ['bent' 'cup']  \n",
      "4       223    org  ['taxpotato' 'east']  \n",
      "--------------------------------------------------------------------------------------------------------------\n"
     ]
    }
   ],
   "source": [
    "addrs = []\n",
    "for i in data['website']:\n",
    "    p = str(i).split('//')\n",
    "    addrs.append(p[1])\n",
    "\n",
    "data['website'] = addrs\n",
    "\n",
    "addr = []\n",
    "wn = []\n",
    "for i in data['website']:\n",
    "    d = i.split('.')\n",
    "    addr.append(d[-1])\n",
    "    wn.append(d[:-1])\n",
    "\n",
    "wwn = []\n",
    "for i in wn:\n",
    "    n = str(i).replace(\", \",\" \")\n",
    "    wwn.append(n)\n",
    "\n",
    "\n",
    "\n",
    "data[\"domain\"] = addr\n",
    "data[\"website_name\"] = wwn\n",
    "\n",
    "print(                                                                                                                )\n",
    "print(\"New data frame------------------------------------------------------------------------------------------------\")\n",
    "print(data.head())\n",
    "print(\"--------------------------------------------------------------------------------------------------------------\")\n"
   ]
  },
  {
   "cell_type": "code",
   "execution_count": 8,
   "metadata": {},
   "outputs": [],
   "source": [
    "from textblob import TextBlob\n",
    "\n",
    "polar = []\n",
    "subj = []\n",
    "score = []\n",
    "for i in data['website_name']:\n",
    "    wiki = TextBlob(i)\n",
    "    pol, sub= np.array(wiki.sentiment)\n",
    "    polar.append(pol)\n",
    "    subj.append(sub)\n"
   ]
  },
  {
   "cell_type": "code",
   "execution_count": 9,
   "metadata": {},
   "outputs": [
    {
     "name": "stdout",
     "output_type": "stream",
     "text": [
      "\n",
      "New data frame------------------------------------------------------------------------------------------------\n",
      "                         id                date          user       pc  \\\n",
      "0  {M8H9-W9NL75TH-1322KOLO} 2010-01-04 07:08:47  ACME/AMA0606  PC-1514   \n",
      "1  {V0E1-R0FE91SC-2381GTDZ} 2010-01-04 07:35:19  ACME/DBM0698  PC-1444   \n",
      "2  {V7C8-H6KA39YG-3352HMOW} 2010-01-04 07:40:40  ACME/HBF0035  PC-0991   \n",
      "3  {O9P7-D9DL54YQ-9903OMYE} 2010-01-04 07:52:25  ACME/SVC0175  PC-3384   \n",
      "4  {L3J0-E4RF05KN-7341OQVW} 2010-01-04 07:55:50  ACME/CMU0028  PC-4253   \n",
      "\n",
      "              website  year  month  week  weekday    time   numdate    PC  \\\n",
      "0            cnet.com  2010      1     1        0  070847  20100104  1514   \n",
      "1      force.open.com  2010      1     1        0  073519  20100104  1444   \n",
      "2    tendencystem.org  2010      1     1        0  074040  20100104  0991   \n",
      "3        bent.cup.org  2010      1     1        0  075225  20100104  3384   \n",
      "4  taxpotato.east.org  2010      1     1        0  075550  20100104  4253   \n",
      "\n",
      "   user_cat domain          website_name  polarity  subjectivity  \n",
      "0        66    com              ['cnet']       0.0           0.0  \n",
      "1       259    com      ['force' 'open']       0.0           0.5  \n",
      "2       385    org      ['tendencystem']       0.0           0.0  \n",
      "3       889    org        ['bent' 'cup']       0.0           0.0  \n",
      "4       223    org  ['taxpotato' 'east']       0.0           0.0  \n",
      "--------------------------------------------------------------------------------------------------------------\n"
     ]
    }
   ],
   "source": [
    "data[\"polarity\"] = polar\n",
    "data[\"subjectivity\"] = subj\n",
    "\n",
    "print(                                                                                                                )\n",
    "print(\"New data frame------------------------------------------------------------------------------------------------\")\n",
    "print(data.head())\n",
    "print(\"--------------------------------------------------------------------------------------------------------------\")"
   ]
  },
  {
   "cell_type": "code",
   "execution_count": 10,
   "metadata": {},
   "outputs": [
    {
     "name": "stdout",
     "output_type": "stream",
     "text": [
      "\n",
      "New data frame------------------------------------------------------------------------------------------------\n",
      "                         id                date          user       pc  \\\n",
      "0  {M8H9-W9NL75TH-1322KOLO} 2010-01-04 07:08:47  ACME/AMA0606  PC-1514   \n",
      "1  {V0E1-R0FE91SC-2381GTDZ} 2010-01-04 07:35:19  ACME/DBM0698  PC-1444   \n",
      "2  {V7C8-H6KA39YG-3352HMOW} 2010-01-04 07:40:40  ACME/HBF0035  PC-0991   \n",
      "3  {O9P7-D9DL54YQ-9903OMYE} 2010-01-04 07:52:25  ACME/SVC0175  PC-3384   \n",
      "4  {L3J0-E4RF05KN-7341OQVW} 2010-01-04 07:55:50  ACME/CMU0028  PC-4253   \n",
      "\n",
      "              website  year  month  week  weekday   time   numdate    PC  \\\n",
      "0            cnet.com  2010      1     1        0  70847  20100104  1514   \n",
      "1      force.open.com  2010      1     1        0  73519  20100104  1444   \n",
      "2    tendencystem.org  2010      1     1        0  74040  20100104   991   \n",
      "3        bent.cup.org  2010      1     1        0  75225  20100104  3384   \n",
      "4  taxpotato.east.org  2010      1     1        0  75550  20100104  4253   \n",
      "\n",
      "   user_cat domain          website_name  polarity  subjectivity  domain_cat  \n",
      "0        66    com              ['cnet']       0.0           0.0           3  \n",
      "1       259    com      ['force' 'open']       0.0           0.5           3  \n",
      "2       385    org      ['tendencystem']       0.0           0.0          10  \n",
      "3       889    org        ['bent' 'cup']       0.0           0.0          10  \n",
      "4       223    org  ['taxpotato' 'east']       0.0           0.0          10  \n",
      "--------------------------------------------------------------------------------------------------------------\n"
     ]
    }
   ],
   "source": [
    "data[\"domain_cat\"] = data['domain'].astype('category')\n",
    "data['domain_cat'] = data['domain_cat'].cat.codes\n",
    "\n",
    "data[\"numdate\"] = data[\"numdate\"].astype(\"str\")\n",
    "data[\"numdate\"] = data[\"numdate\"].astype(\"int\")\n",
    "\n",
    "data[\"time\"] = data[\"time\"].astype(\"str\")\n",
    "data[\"time\"] = data[\"time\"].astype(\"int\")\n",
    "\n",
    "data[\"PC\"] = data[\"PC\"].astype(\"str\")\n",
    "data[\"PC\"] = data[\"PC\"].astype(\"int\")\n",
    "\n",
    "\n",
    "print(                                                                                                                )\n",
    "print(\"New data frame------------------------------------------------------------------------------------------------\")\n",
    "print(data.head())\n",
    "print(\"--------------------------------------------------------------------------------------------------------------\")"
   ]
  },
  {
   "cell_type": "code",
   "execution_count": 11,
   "metadata": {},
   "outputs": [
    {
     "name": "stdout",
     "output_type": "stream",
     "text": [
      "\n",
      "New data frame------------------------------------------------------------------------------------------------\n",
      "   year  month  week   time   numdate    PC  user_cat domain  polarity  \\\n",
      "0  2010      1     1  70847  20100104  1514        66    com       0.0   \n",
      "1  2010      1     1  73519  20100104  1444       259    com       0.0   \n",
      "2  2010      1     1  74040  20100104   991       385    org       0.0   \n",
      "3  2010      1     1  75225  20100104  3384       889    org       0.0   \n",
      "4  2010      1     1  75550  20100104  4253       223    org       0.0   \n",
      "\n",
      "   subjectivity  domain_cat  \n",
      "0           0.0           3  \n",
      "1           0.5           3  \n",
      "2           0.0          10  \n",
      "3           0.0          10  \n",
      "4           0.0          10  \n",
      "--------------------------------------------------------------------------------------------------------------\n"
     ]
    }
   ],
   "source": [
    "http_info_ARASH = data[['year', 'month','week','time','numdate','PC','user_cat', 'domain', \"polarity\", 'subjectivity','domain_cat']]\n",
    "print(                                                                                                                )\n",
    "print(\"New data frame------------------------------------------------------------------------------------------------\")\n",
    "print(http_info_ARASH.head())\n",
    "print(\"--------------------------------------------------------------------------------------------------------------\")"
   ]
  },
  {
   "cell_type": "code",
   "execution_count": 12,
   "metadata": {},
   "outputs": [
    {
     "data": {
      "text/plain": [
       "<matplotlib.axes._subplots.AxesSubplot at 0x1b22a8c358>"
      ]
     },
     "execution_count": 12,
     "metadata": {},
     "output_type": "execute_result"
    },
    {
     "data": {
      "image/png": "[encoded data removed]",
      "text/plain": [
       "<matplotlib.figure.Figure at 0x1b22a92908>"
      ]
     },
     "metadata": {},
     "output_type": "display_data"
    }
   ],
   "source": [
    "%matplotlib inline\n",
    "plt.figure(figsize=(14,12))\n",
    "sns.heatmap(http_info_ARASH.corr(), square=True, annot=True)\n",
    "\n",
    "#plt.figure(figsize=(14,12))\n",
    "#sns.pairplot(http_info_ARASH, hue = \"domain\")"
   ]
  },
  {
   "cell_type": "code",
   "execution_count": 13,
   "metadata": {},
   "outputs": [],
   "source": [
    "#http_info_ARASH.to_csv('http_info_ARASH.csv',index=False)"
   ]
  },
  {
   "cell_type": "code",
   "execution_count": 14,
   "metadata": {},
   "outputs": [],
   "source": [
    "dom_size = http_info_ARASH.groupby(\"domain\").agg(['size'])\n",
    "site_size = data.groupby(\"website_name\").agg(['size'])"
   ]
  },
  {
   "cell_type": "code",
   "execution_count": 15,
   "metadata": {},
   "outputs": [
    {
     "data": {
      "text/html": [
       "<div>\n",
       "<style scoped>\n",
       "    .dataframe tbody tr th:only-of-type {\n",
       "        vertical-align: middle;\n",
       "    }\n",
       "\n",
       "    .dataframe tbody tr th {\n",
       "        vertical-align: top;\n",
       "    }\n",
       "\n",
       "    .dataframe thead tr th {\n",
       "        text-align: left;\n",
       "    }\n",
       "\n",
       "    .dataframe thead tr:last-of-type th {\n",
       "        text-align: right;\n",
       "    }\n",
       "</style>\n",
       "<table border=\"1\" class=\"dataframe\">\n",
       "  <thead>\n",
       "    <tr>\n",
       "      <th></th>\n",
       "      <th>id</th>\n",
       "      <th>date</th>\n",
       "      <th>user</th>\n",
       "      <th>pc</th>\n",
       "      <th>website</th>\n",
       "      <th>year</th>\n",
       "      <th>month</th>\n",
       "      <th>week</th>\n",
       "      <th>weekday</th>\n",
       "      <th>time</th>\n",
       "      <th>numdate</th>\n",
       "      <th>PC</th>\n",
       "      <th>user_cat</th>\n",
       "      <th>domain</th>\n",
       "      <th>polarity</th>\n",
       "      <th>subjectivity</th>\n",
       "      <th>domain_cat</th>\n",
       "    </tr>\n",
       "    <tr>\n",
       "      <th></th>\n",
       "      <th>size</th>\n",
       "      <th>size</th>\n",
       "      <th>size</th>\n",
       "      <th>size</th>\n",
       "      <th>size</th>\n",
       "      <th>size</th>\n",
       "      <th>size</th>\n",
       "      <th>size</th>\n",
       "      <th>size</th>\n",
       "      <th>size</th>\n",
       "      <th>size</th>\n",
       "      <th>size</th>\n",
       "      <th>size</th>\n",
       "      <th>size</th>\n",
       "      <th>size</th>\n",
       "      <th>size</th>\n",
       "      <th>size</th>\n",
       "    </tr>\n",
       "    <tr>\n",
       "      <th>website_name</th>\n",
       "      <th></th>\n",
       "      <th></th>\n",
       "      <th></th>\n",
       "      <th></th>\n",
       "      <th></th>\n",
       "      <th></th>\n",
       "      <th></th>\n",
       "      <th></th>\n",
       "      <th></th>\n",
       "      <th></th>\n",
       "      <th></th>\n",
       "      <th></th>\n",
       "      <th></th>\n",
       "      <th></th>\n",
       "      <th></th>\n",
       "      <th></th>\n",
       "      <th></th>\n",
       "    </tr>\n",
       "  </thead>\n",
       "  <tbody>\n",
       "    <tr>\n",
       "      <th>['' 'bee']</th>\n",
       "      <td>11</td>\n",
       "      <td>11</td>\n",
       "      <td>11</td>\n",
       "      <td>11</td>\n",
       "      <td>11</td>\n",
       "      <td>11</td>\n",
       "      <td>11</td>\n",
       "      <td>11</td>\n",
       "      <td>11</td>\n",
       "      <td>11</td>\n",
       "      <td>11</td>\n",
       "      <td>11</td>\n",
       "      <td>11</td>\n",
       "      <td>11</td>\n",
       "      <td>11</td>\n",
       "      <td>11</td>\n",
       "      <td>11</td>\n",
       "    </tr>\n",
       "    <tr>\n",
       "      <th>['' 'before']</th>\n",
       "      <td>6</td>\n",
       "      <td>6</td>\n",
       "      <td>6</td>\n",
       "      <td>6</td>\n",
       "      <td>6</td>\n",
       "      <td>6</td>\n",
       "      <td>6</td>\n",
       "      <td>6</td>\n",
       "      <td>6</td>\n",
       "      <td>6</td>\n",
       "      <td>6</td>\n",
       "      <td>6</td>\n",
       "      <td>6</td>\n",
       "      <td>6</td>\n",
       "      <td>6</td>\n",
       "      <td>6</td>\n",
       "      <td>6</td>\n",
       "    </tr>\n",
       "    <tr>\n",
       "      <th>['' 'by']</th>\n",
       "      <td>2</td>\n",
       "      <td>2</td>\n",
       "      <td>2</td>\n",
       "      <td>2</td>\n",
       "      <td>2</td>\n",
       "      <td>2</td>\n",
       "      <td>2</td>\n",
       "      <td>2</td>\n",
       "      <td>2</td>\n",
       "      <td>2</td>\n",
       "      <td>2</td>\n",
       "      <td>2</td>\n",
       "      <td>2</td>\n",
       "      <td>2</td>\n",
       "      <td>2</td>\n",
       "      <td>2</td>\n",
       "      <td>2</td>\n",
       "    </tr>\n",
       "    <tr>\n",
       "      <th>['' 'come']</th>\n",
       "      <td>1</td>\n",
       "      <td>1</td>\n",
       "      <td>1</td>\n",
       "      <td>1</td>\n",
       "      <td>1</td>\n",
       "      <td>1</td>\n",
       "      <td>1</td>\n",
       "      <td>1</td>\n",
       "      <td>1</td>\n",
       "      <td>1</td>\n",
       "      <td>1</td>\n",
       "      <td>1</td>\n",
       "      <td>1</td>\n",
       "      <td>1</td>\n",
       "      <td>1</td>\n",
       "      <td>1</td>\n",
       "      <td>1</td>\n",
       "    </tr>\n",
       "    <tr>\n",
       "      <th>['' 'decision']</th>\n",
       "      <td>1</td>\n",
       "      <td>1</td>\n",
       "      <td>1</td>\n",
       "      <td>1</td>\n",
       "      <td>1</td>\n",
       "      <td>1</td>\n",
       "      <td>1</td>\n",
       "      <td>1</td>\n",
       "      <td>1</td>\n",
       "      <td>1</td>\n",
       "      <td>1</td>\n",
       "      <td>1</td>\n",
       "      <td>1</td>\n",
       "      <td>1</td>\n",
       "      <td>1</td>\n",
       "      <td>1</td>\n",
       "      <td>1</td>\n",
       "    </tr>\n",
       "  </tbody>\n",
       "</table>\n",
       "</div>"
      ],
      "text/plain": [
       "                  id date user   pc website year month week weekday time  \\\n",
       "                size size size size    size size  size size    size size   \n",
       "website_name                                                               \n",
       "['' 'bee']        11   11   11   11      11   11    11   11      11   11   \n",
       "['' 'before']      6    6    6    6       6    6     6    6       6    6   \n",
       "['' 'by']          2    2    2    2       2    2     2    2       2    2   \n",
       "['' 'come']        1    1    1    1       1    1     1    1       1    1   \n",
       "['' 'decision']    1    1    1    1       1    1     1    1       1    1   \n",
       "\n",
       "                numdate   PC user_cat domain polarity subjectivity domain_cat  \n",
       "                   size size     size   size     size         size       size  \n",
       "website_name                                                                   \n",
       "['' 'bee']           11   11       11     11       11           11         11  \n",
       "['' 'before']         6    6        6      6        6            6          6  \n",
       "['' 'by']             2    2        2      2        2            2          2  \n",
       "['' 'come']           1    1        1      1        1            1          1  \n",
       "['' 'decision']       1    1        1      1        1            1          1  "
      ]
     },
     "execution_count": 15,
     "metadata": {},
     "output_type": "execute_result"
    }
   ],
   "source": [
    "site_size.head()"
   ]
  },
  {
   "cell_type": "code",
   "execution_count": 19,
   "metadata": {},
   "outputs": [
    {
     "data": {
      "text/plain": [
       "Text(0,0.5,'Number Visits')"
      ]
     },
     "execution_count": 19,
     "metadata": {},
     "output_type": "execute_result"
    },
    {
     "data": {
      "image/png": "[encoded data removed]",
      "text/plain": [
       "<matplotlib.figure.Figure at 0x1b228cbc18>"
      ]
     },
     "metadata": {},
     "output_type": "display_data"
    }
   ],
   "source": [
    "plt.figure(figsize = [14,12])\n",
    "plt.plot(dom_size.index, dom_size['domain_cat']['size'])\n",
    "plt.xlabel(\"Domain\")\n",
    "plt.ylabel(\"Number Visits\")"
   ]
  },
  {
   "cell_type": "code",
   "execution_count": null,
   "metadata": {},
   "outputs": [],
   "source": []
  }
 ],
 "metadata": {
  "kernelspec": {
   "display_name": "Python 3",
   "language": "python",
   "name": "python3"
  },
  "language_info": {
   "codemirror_mode": {
    "name": "ipython",
    "version": 3
   },
   "file_extension": ".py",
   "mimetype": "text/x-python",
   "name": "python",
   "nbconvert_exporter": "python",
   "pygments_lexer": "ipython3",
   "version": "3.6.4"
  }
 },
 "nbformat": 4,
 "nbformat_minor": 2
}
